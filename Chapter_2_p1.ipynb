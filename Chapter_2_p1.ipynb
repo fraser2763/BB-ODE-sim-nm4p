{
 "cells": [
  {
   "cell_type": "markdown",
   "id": "ec029235",
   "metadata": {},
   "source": [
    "## ODEs - Basic Methods 2.1"
   ]
  },
  {
   "cell_type": "markdown",
   "id": "8907a2ca",
   "metadata": {},
   "source": [
    "**BASEBALL PROGRAM**"
   ]
  },
  {
   "cell_type": "code",
   "execution_count": 23,
   "id": "8f50c46f",
   "metadata": {},
   "outputs": [],
   "source": [
    "import numpy as np\n",
    "import matplotlib.pyplot as plt"
   ]
  },
  {
   "cell_type": "markdown",
   "id": "70889774",
   "metadata": {},
   "source": [
    "Attempt 2: (adapted from soln)"
   ]
  },
  {
   "cell_type": "code",
   "execution_count": 28,
   "id": "8ea243a0",
   "metadata": {},
   "outputs": [
    {
     "name": "stdout",
     "output_type": "stream",
     "text": [
      "Max range is 123.461 meters\n",
      "Time of flight is 5.800 seconds\n"
     ]
    },
    {
     "data": {
      "image/png": "[encoded data removed]",
      "text/plain": [
       "<Figure size 640x480 with 1 Axes>"
      ]
     },
     "metadata": {},
     "output_type": "display_data"
    }
   ],
   "source": [
    "mass = 0.145\n",
    "cd = 0.35\n",
    "grav = 9.81\n",
    "theta = np.deg2rad(45)\n",
    "A = 0.074**2 * np.pi/4\n",
    "rho = 1.225\n",
    "\n",
    "r0 = np.array([0,0])\n",
    "speed = 50 \n",
    "theta = 45 \n",
    "v0 = np.array([speed * np.cos(np.deg2rad(theta)), speed * np.sin(np.deg2rad(theta))])\n",
    "r = np.copy(r0) # set intial position\n",
    "v = np.copy(v0) # set initial velocity \n",
    "air_const = -0.5*rho*cd*A / mass\n",
    "\n",
    "\n",
    "tau = 0.1\n",
    "maxstep = 1000\n",
    "xplot = np.empty(maxstep); yplot = np.empty(maxstep)\n",
    "xNoAir = np.empty(maxstep); yNoAir = np.empty(maxstep)\n",
    "\n",
    "\n",
    "for istep in range(maxstep):\n",
    "\n",
    "    # Record position for plotting\n",
    "    xplot[istep] = r[0]\n",
    "    yplot[istep] = r[1]\n",
    "    t = istep * tau\n",
    "    xNoAir[istep] = r0[0] + v0[0]*t\n",
    "    yNoAir[istep] = r0[1] + v0[1]*t - 0.5*grav*t**2\n",
    "\n",
    "    # Calc acceleration of ball\n",
    "    accel = air_const * np.linalg.norm(v) * v # Air resistance\n",
    "    accel[1] = accel[1] - grav                # Gravity\n",
    "\n",
    "    # Calc new position and velo using Euler \n",
    "    r = r + tau*v \n",
    "    v = v + tau*accel\n",
    "\n",
    "    # Break condition \n",
    "    if r[1] < 0:\n",
    "        laststep = istep + 1\n",
    "        xplot[laststep] = r[0]  # record last values computed \n",
    "        yplot[laststep] = r[1]\n",
    "        t = laststep * tau\n",
    "        xNoAir[laststep] = r0[0] + v0[0]*t\n",
    "        yNoAir[laststep] = r0[1] + v0[1]*t - 0.5 * grav * t**2\n",
    "        break\n",
    "\n",
    "print(f'Max range is {xplot[laststep]:.3f} meters')\n",
    "print(f'Time of flight is {laststep*tau:.3f} seconds')\n",
    "\n",
    "# mark location of ground w straight line \n",
    "plt.plot(xplot[0:laststep+1], yplot[0:laststep+1], '+')\n",
    "plt.plot(xNoAir[0:laststep+1], yNoAir[0:laststep+1], '-')\n",
    "plt.plot(xNoAir[0:laststep+1], np.zeros(len(xNoAir[0:laststep+1])), 'r-')\n",
    "plt.legend(['Euler Method', 'Theory (No Drag)'])\n",
    "plt.show()"
   ]
  },
  {
   "cell_type": "markdown",
   "id": "8cd746cb",
   "metadata": {},
   "source": [
    "Flight time and range is a slight over estimate as last point is after the ground. Use interpolation between last 3 points to find value at zero."
   ]
  },
  {
   "cell_type": "code",
   "execution_count": null,
   "id": "bd4cef36",
   "metadata": {},
   "outputs": [
    {
     "data": {
      "text/plain": [
       "array([123.07688927,  55.89868027])"
      ]
     },
     "execution_count": 58,
     "metadata": {},
     "output_type": "execute_result"
    }
   ],
   "source": [
    "xvals = xplot[laststep-2:laststep+1]\n",
    "yvals = yplot[laststep-2:laststep+1]\n",
    "\n",
    "coeffs_range = np.polyfit(xvals, yvals, 2)\n",
    "\n",
    "roots = np.roots(coeffs)\n",
    "roots"
   ]
  },
  {
   "cell_type": "code",
   "execution_count": 70,
   "id": "a7fcd8eb",
   "metadata": {},
   "outputs": [
    {
     "name": "stdout",
     "output_type": "stream",
     "text": [
      "Interpolated range is 123.077 metres\n"
     ]
    }
   ],
   "source": [
    "range = [r for r in roots if xvals.min() <= r <= xvals.max()]\n",
    "print(f'Interpolated range is {range[0]:.3f} metres')"
   ]
  },
  {
   "cell_type": "code",
   "execution_count": 78,
   "id": "8829bfa6",
   "metadata": {},
   "outputs": [
    {
     "data": {
      "text/plain": [
       "array([5.6, 5.7, 5.8])"
      ]
     },
     "execution_count": 78,
     "metadata": {},
     "output_type": "execute_result"
    }
   ],
   "source": [
    "times = np.array([laststep-2, laststep-1, laststep]) * tau\n",
    "times"
   ]
  },
  {
   "cell_type": "code",
   "execution_count": 80,
   "id": "0bef0024",
   "metadata": {},
   "outputs": [
    {
     "data": {
      "text/plain": [
       "array([120.78094875, 122.13270534, 123.46092163])"
      ]
     },
     "execution_count": 80,
     "metadata": {},
     "output_type": "execute_result"
    }
   ],
   "source": [
    "ranges = xplot[laststep-2:laststep+1]\n",
    "ranges"
   ]
  },
  {
   "cell_type": "code",
   "execution_count": 91,
   "id": "a7f64145",
   "metadata": {},
   "outputs": [],
   "source": [
    "time_poly = np.polyfit(ranges, times, 2)\n",
    "p_t = np.poly1d(time_poly)\n",
    "adjusted_t = p_t(123.077)\n"
   ]
  },
  {
   "cell_type": "code",
   "execution_count": 92,
   "id": "a945f06a",
   "metadata": {},
   "outputs": [
    {
     "name": "stdout",
     "output_type": "stream",
     "text": [
      "Interpolated range is 123.077 metres\n",
      "Interpolated times is 5.771 seconds\n"
     ]
    }
   ],
   "source": [
    "print(f'Interpolated range is {range[0]:.3f} metres')\n",
    "print(f'Interpolated times is {adjusted_t:.3f} seconds')"
   ]
  }
 ],
 "metadata": {
  "kernelspec": {
   "display_name": "Python 3",
   "language": "python",
   "name": "python3"
  },
  "language_info": {
   "codemirror_mode": {
    "name": "ipython",
    "version": 3
   },
   "file_extension": ".py",
   "mimetype": "text/x-python",
   "name": "python",
   "nbconvert_exporter": "python",
   "pygments_lexer": "ipython3",
   "version": "3.13.3"
  }
 },
 "nbformat": 4,
 "nbformat_minor": 5
}
